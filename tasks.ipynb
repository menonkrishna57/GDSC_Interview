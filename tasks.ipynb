{
 "cells": [
  {
   "cell_type": "markdown",
   "metadata": {},
   "source": [
    "# Task-1\n",
    "Write a function in Python that takes a list of integers as input and returns the sum of all even\n",
    "numbers in the list."
   ]
  },
  {
   "cell_type": "code",
   "execution_count": 7,
   "metadata": {},
   "outputs": [
    {
     "name": "stdout",
     "output_type": "stream",
     "text": [
      "1 2 3 4 5 6 7 8 9 10 \n",
      "Sum of even Numbers: 30\n"
     ]
    }
   ],
   "source": [
    "mylist,myeven=[],[]\n",
    "for i in range(int(input(\"How many Numbers: \"))):\n",
    "    mylist.append(int(input(\"Enter Number: \")))\n",
    "    if mylist[i] % 2 == 0:\n",
    "        myeven.append(mylist[i])\n",
    "    print(mylist[i],end=\" \")\n",
    "print(\"\\nSum of even Numbers:\",sum(myeven))"
   ]
  },
  {
   "cell_type": "markdown",
   "metadata": {
    "slideshow": {
     "slide_type": "slide"
    }
   },
   "source": [
    "## TASK 2:\n",
    "Write a Python function that takes a string as input and returns a dictionary with the count of each\n",
    "word in the string. Ignore punctuation and case sensitivity.\n",
    "```Example Input:\n",
    "text = \"Hello world! Hello AI committee. Welcome to the AI world.\"\n",
    "Example Output:\n",
    "{\n",
    "'hello': 2,\n",
    "'world': 2,\n",
    "'ai': 2,\n",
    "'committee': 1,\n",
    "'welcome': 1,\n",
    "'to': 1,\n",
    "'the': 1\n",
    "}"
   ]
  },
  {
   "cell_type": "code",
   "execution_count": 9,
   "metadata": {},
   "outputs": [
    {
     "name": "stdout",
     "output_type": "stream",
     "text": [
      "{'the': 1, 'to': 1, 'world': 2, 'ai': 2, 'hello': 2, 'welcome': 1, 'committee': 1}\n"
     ]
    }
   ],
   "source": [
    "def remove_special(x):\n",
    "    x = list(x)\n",
    "    if len(x) > 0:\n",
    "        if not x[-1].isalnum():\n",
    "            x.pop(-1)\n",
    "        if not x[0].isalnum():\n",
    "            x.pop(0)\n",
    "    return ''.join(x)\n",
    "\n",
    "mystr = input(\"Enter a String: \").strip()\n",
    "mystr = mystr.lower()\n",
    "mylist = mystr.split()\n",
    "unique_words = list(set(mylist))\n",
    "unique_words = list(set(map(remove_special, unique_words)))\n",
    "word_count = dict()\n",
    "for i in unique_words:\n",
    "    word_count[i]=mystr.count(i)\n",
    "\n",
    "print(word_count)"
   ]
  },
  {
   "cell_type": "markdown",
   "metadata": {},
   "source": [
    "# TASK 3:\n",
    "Write a Python function that uses the scikit-learn library to train a linear regression model\n",
    "to predict house prices based on a single feature, the size of the house in square feet. The\n",
    "function should take a dataset of house sizes and their corresponding prices, train the model,\n",
    "make predictions, and return the R2 score of the model\n",
    "\n",
    "|SIZES | PRICE |\n",
    "|------|------|\n",
    " |  1400 | 245000 |\n",
    " |  1600 | 312000 |\n",
    " |  1700 | 279000 |\n",
    " |  1875 | 308000 |\n",
    " |  1100 | 199000 |\n",
    " |  1550 | 219000 |\n",
    "|2350 | 405000 |\n",
    "|2450 | 324000 |\n",
    " |  1425 | 319000 |\n",
    " |  1700 | 255000 |"
   ]
  },
  {
   "cell_type": "code",
   "execution_count": null,
   "metadata": {},
   "outputs": [],
   "source": [
    "from sklearn.linear_model import LinearRegression as lr\n",
    "import numpy as np\n"
   ]
  }
 ],
 "metadata": {
  "kernelspec": {
   "display_name": "Python 3",
   "language": "python",
   "name": "python3"
  },
  "language_info": {
   "codemirror_mode": {
    "name": "ipython",
    "version": 3
   },
   "file_extension": ".py",
   "mimetype": "text/x-python",
   "name": "python",
   "nbconvert_exporter": "python",
   "pygments_lexer": "ipython3",
   "version": "3.12.4"
  }
 },
 "nbformat": 4,
 "nbformat_minor": 2
}
